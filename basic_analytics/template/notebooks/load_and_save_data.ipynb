{
 "cells": [
  {
   "cell_type": "markdown",
   "id": "e1251103",
   "metadata": {},
   "source": [
    "# Loading (and saving) data from frequently used sources\n",
    "\n",
    "This Jupyter Notebook provides examples of how to read in data from a variety of frequently used data-types, as well as how to save the datasets into said file-types. \n",
    "\n",
    "This Notebook provides examples for the most common use-cases, requiring only pandas and openpyxl to be installed (for Excel). Another notebook will be created for more advanced data formats, often requiring other packages. The data formats listed in 'red' below, will be covered in the 'advanced' Notebook\n",
    "\n",
    "For tabular data, we will use the functionality pandas out of the box, for tabular data stored in: \n",
    "* <a href=\"#csv\">csv</a>, <a href=\"#txt\">txt</a>, <a href=\"#excel\">Excel</a>, <font color='red'>SQL</font>, <font color='red'>parquet</font>\n",
    "\n",
    "Some of these are enhanced through additional libraries that need to be installed (that pandas relies on). More information is provided in the corresponding section.\n",
    "\n",
    "Configurations are often stored in formats suitable to be read into Dictionaries, and common file types include:\n",
    "\n",
    "* <a href=\"#json\">json</a>, <font color='red'>yaml</font>\n",
    "\n",
    "Lastly, to load and save more complicates objects, Python provides additional serialization options such as:\n",
    "\n",
    "* <a href=\"#pickle\">pickle</a>, <font color='red'>pmml (e.g. for cross-platform ML models)</font>"
   ]
  },
  {
   "cell_type": "markdown",
   "id": "0d07fa11",
   "metadata": {},
   "source": [
    "**Note: When pandas will automatically attempt to detect the data type in each column. If the data has a large number of rows, by default Pandas will attempt to use a subset of the data to detect the data type. This can be a problem if a column contains a large number of blank values, or is a string with many values that could be misconstrued as numbers. In these cases, use the 'low_memory=False' argument.**"
   ]
  },
  {
   "cell_type": "markdown",
   "id": "457e4e84",
   "metadata": {},
   "source": [
    "<a id=\"csv\"></a>\n",
    "# Load and Save CSV data\n",
    "\n",
    "This uses the read_csv and to_csv capabilities in pandas:\n",
    "* https://pandas.pydata.org/docs/reference/api/pandas.read_csv.html\n",
    "* https://pandas.pydata.org/docs/reference/api/pandas.DataFrame.to_csv.html"
   ]
  },
  {
   "cell_type": "code",
   "execution_count": 1,
   "id": "ef173a8e",
   "metadata": {},
   "outputs": [],
   "source": [
    "# Load in required packages\n",
    "import pandas as pd"
   ]
  },
  {
   "cell_type": "code",
   "execution_count": 2,
   "id": "ca32af2f",
   "metadata": {},
   "outputs": [],
   "source": [
    "data_from_csv = pd.read_csv(\"sample_input/iris.csv\", low_memory=False) # For small datasets, low_memory=False is not necessary"
   ]
  },
  {
   "cell_type": "code",
   "execution_count": 3,
   "id": "8e7f7cda",
   "metadata": {},
   "outputs": [
    {
     "data": {
      "text/html": [
       "<div>\n",
       "<style scoped>\n",
       "    .dataframe tbody tr th:only-of-type {\n",
       "        vertical-align: middle;\n",
       "    }\n",
       "\n",
       "    .dataframe tbody tr th {\n",
       "        vertical-align: top;\n",
       "    }\n",
       "\n",
       "    .dataframe thead th {\n",
       "        text-align: right;\n",
       "    }\n",
       "</style>\n",
       "<table border=\"1\" class=\"dataframe\">\n",
       "  <thead>\n",
       "    <tr style=\"text-align: right;\">\n",
       "      <th></th>\n",
       "      <th>sepal.length</th>\n",
       "      <th>sepal.width</th>\n",
       "      <th>petal.length</th>\n",
       "      <th>petal.width</th>\n",
       "      <th>variety</th>\n",
       "    </tr>\n",
       "  </thead>\n",
       "  <tbody>\n",
       "    <tr>\n",
       "      <th>0</th>\n",
       "      <td>5.1</td>\n",
       "      <td>3.5</td>\n",
       "      <td>1.4</td>\n",
       "      <td>0.2</td>\n",
       "      <td>Setosa</td>\n",
       "    </tr>\n",
       "    <tr>\n",
       "      <th>1</th>\n",
       "      <td>4.9</td>\n",
       "      <td>3.0</td>\n",
       "      <td>1.4</td>\n",
       "      <td>0.2</td>\n",
       "      <td>Setosa</td>\n",
       "    </tr>\n",
       "    <tr>\n",
       "      <th>2</th>\n",
       "      <td>4.7</td>\n",
       "      <td>3.2</td>\n",
       "      <td>1.3</td>\n",
       "      <td>0.2</td>\n",
       "      <td>Setosa</td>\n",
       "    </tr>\n",
       "    <tr>\n",
       "      <th>3</th>\n",
       "      <td>4.6</td>\n",
       "      <td>3.1</td>\n",
       "      <td>1.5</td>\n",
       "      <td>0.2</td>\n",
       "      <td>Setosa</td>\n",
       "    </tr>\n",
       "    <tr>\n",
       "      <th>4</th>\n",
       "      <td>5.0</td>\n",
       "      <td>3.6</td>\n",
       "      <td>1.4</td>\n",
       "      <td>0.2</td>\n",
       "      <td>Setosa</td>\n",
       "    </tr>\n",
       "  </tbody>\n",
       "</table>\n",
       "</div>"
      ],
      "text/plain": [
       "   sepal.length  sepal.width  petal.length  petal.width variety\n",
       "0           5.1          3.5           1.4          0.2  Setosa\n",
       "1           4.9          3.0           1.4          0.2  Setosa\n",
       "2           4.7          3.2           1.3          0.2  Setosa\n",
       "3           4.6          3.1           1.5          0.2  Setosa\n",
       "4           5.0          3.6           1.4          0.2  Setosa"
      ]
     },
     "execution_count": 3,
     "metadata": {},
     "output_type": "execute_result"
    }
   ],
   "source": [
    "data_from_csv.head()"
   ]
  },
  {
   "cell_type": "code",
   "execution_count": 4,
   "id": "5b56578f",
   "metadata": {},
   "outputs": [],
   "source": [
    "# Save into CSV\n",
    "data_from_csv.to_csv(\"sample_output/iris.csv\", index=False) \n",
    "# index=False prevents the 'index' (01,2,3,4...) to be saved as the first column in the csv"
   ]
  },
  {
   "cell_type": "markdown",
   "id": "ea6b4579",
   "metadata": {},
   "source": [
    "<a id=\"txt\"></a>\n",
    "# Load and Save TXT data\n",
    "\n",
    "This can still use the csv functionality! But you will need to specify the separator (if it is not comma-separated):\n",
    "* https://pandas.pydata.org/docs/reference/api/pandas.read_csv.html\n",
    "* https://pandas.pydata.org/docs/reference/api/pandas.DataFrame.to_csv.html\n"
   ]
  },
  {
   "cell_type": "code",
   "execution_count": 5,
   "id": "965ff631",
   "metadata": {},
   "outputs": [],
   "source": [
    "# Load in required packages\n",
    "import pandas as pd"
   ]
  },
  {
   "cell_type": "code",
   "execution_count": 6,
   "id": "82513f58",
   "metadata": {},
   "outputs": [],
   "source": [
    "# This file is tab-separated\n",
    "data_from_txt = pd.read_csv(\"sample_input/iris_tab_separated.txt\", sep='\\t')"
   ]
  },
  {
   "cell_type": "code",
   "execution_count": 7,
   "id": "fc2f9d44",
   "metadata": {},
   "outputs": [
    {
     "data": {
      "text/html": [
       "<div>\n",
       "<style scoped>\n",
       "    .dataframe tbody tr th:only-of-type {\n",
       "        vertical-align: middle;\n",
       "    }\n",
       "\n",
       "    .dataframe tbody tr th {\n",
       "        vertical-align: top;\n",
       "    }\n",
       "\n",
       "    .dataframe thead th {\n",
       "        text-align: right;\n",
       "    }\n",
       "</style>\n",
       "<table border=\"1\" class=\"dataframe\">\n",
       "  <thead>\n",
       "    <tr style=\"text-align: right;\">\n",
       "      <th></th>\n",
       "      <th>sepal.length</th>\n",
       "      <th>sepal.width</th>\n",
       "      <th>petal.length</th>\n",
       "      <th>petal.width</th>\n",
       "      <th>variety</th>\n",
       "    </tr>\n",
       "  </thead>\n",
       "  <tbody>\n",
       "    <tr>\n",
       "      <th>0</th>\n",
       "      <td>5.1</td>\n",
       "      <td>3.5</td>\n",
       "      <td>1.4</td>\n",
       "      <td>0.2</td>\n",
       "      <td>Setosa</td>\n",
       "    </tr>\n",
       "    <tr>\n",
       "      <th>1</th>\n",
       "      <td>4.9</td>\n",
       "      <td>3.0</td>\n",
       "      <td>1.4</td>\n",
       "      <td>0.2</td>\n",
       "      <td>Setosa</td>\n",
       "    </tr>\n",
       "    <tr>\n",
       "      <th>2</th>\n",
       "      <td>4.7</td>\n",
       "      <td>3.2</td>\n",
       "      <td>1.3</td>\n",
       "      <td>0.2</td>\n",
       "      <td>Setosa</td>\n",
       "    </tr>\n",
       "    <tr>\n",
       "      <th>3</th>\n",
       "      <td>4.6</td>\n",
       "      <td>3.1</td>\n",
       "      <td>1.5</td>\n",
       "      <td>0.2</td>\n",
       "      <td>Setosa</td>\n",
       "    </tr>\n",
       "    <tr>\n",
       "      <th>4</th>\n",
       "      <td>5.0</td>\n",
       "      <td>3.6</td>\n",
       "      <td>1.4</td>\n",
       "      <td>0.2</td>\n",
       "      <td>Setosa</td>\n",
       "    </tr>\n",
       "  </tbody>\n",
       "</table>\n",
       "</div>"
      ],
      "text/plain": [
       "   sepal.length  sepal.width  petal.length  petal.width variety\n",
       "0           5.1          3.5           1.4          0.2  Setosa\n",
       "1           4.9          3.0           1.4          0.2  Setosa\n",
       "2           4.7          3.2           1.3          0.2  Setosa\n",
       "3           4.6          3.1           1.5          0.2  Setosa\n",
       "4           5.0          3.6           1.4          0.2  Setosa"
      ]
     },
     "execution_count": 7,
     "metadata": {},
     "output_type": "execute_result"
    }
   ],
   "source": [
    "data_from_txt.head()"
   ]
  },
  {
   "cell_type": "code",
   "execution_count": 8,
   "id": "9059f40e",
   "metadata": {},
   "outputs": [],
   "source": [
    "# Save into TXT. In this example, we save it as a semi-colon separated file\n",
    "data_from_txt.to_csv(\"sample_output/iris_semicolon_separated.txt\", sep=';', index=False)\n",
    "# index=False prevents the 'index' (01,2,3,4...) to be saved as the first column in the txt"
   ]
  },
  {
   "cell_type": "markdown",
   "id": "31b252f1",
   "metadata": {},
   "source": [
    "<a id=\"excel\"></a>\n",
    "# Load and Save Excel data\n",
    "\n",
    "This reads in an Excel file, using pandas:\n",
    "* https://pandas.pydata.org/docs/reference/api/pandas.read_excel.html\n",
    "* https://pandas.pydata.org/docs/reference/api/pandas.DataFrame.to_excel.html\n",
    "\n",
    "This can be used to read in from specific tabs and cells/ranges within Excel. This makes use of additional Python packages built to handle Excel input/output (such as openpyxl, odf, pyxlsb) -- see the 'Engine' argument in the link above. By default, it will use openpyxl. Do not use 'xlrd', as it only works with the old 'xls' format\n"
   ]
  },
  {
   "cell_type": "code",
   "execution_count": 9,
   "id": "78f05c9d",
   "metadata": {},
   "outputs": [],
   "source": [
    "# Load in required packages\n",
    "import pandas as pd\n",
    "import openpyxl"
   ]
  },
  {
   "cell_type": "code",
   "execution_count": 10,
   "id": "fddd29cd",
   "metadata": {},
   "outputs": [],
   "source": [
    "# This writes and saves the data into a single tab Excel, where the data starts in cell A1, similar to reading in a CSV\n",
    "data_from_excel = pd.read_excel(\"sample_input/iris_single_tab.xlsx\")"
   ]
  },
  {
   "cell_type": "code",
   "execution_count": 11,
   "id": "4ff9d310",
   "metadata": {},
   "outputs": [],
   "source": [
    "# This saves the data into a single tab Excel starting in cell A1\n",
    "data_from_excel.to_excel(\"sample_output/iris_single_tab.xlsx\",index=False)"
   ]
  },
  {
   "cell_type": "markdown",
   "id": "afa58f1e",
   "metadata": {},
   "source": [
    "With Excel files, there is a lot of flexibility for where data is stored and formatted. The following provides an example where data from the second tab of an Excel is read in, and a two-tab Excel is created.\n",
    "\n",
    "To write multiple tabs into an Excel using pandas, the ExcelWriter functionality is needed to create the Excel\n",
    "https://pandas.pydata.org/docs/reference/api/pandas.ExcelWriter.html"
   ]
  },
  {
   "cell_type": "code",
   "execution_count": 12,
   "id": "0df4ddd3",
   "metadata": {},
   "outputs": [
    {
     "data": {
      "text/html": [
       "<div>\n",
       "<style scoped>\n",
       "    .dataframe tbody tr th:only-of-type {\n",
       "        vertical-align: middle;\n",
       "    }\n",
       "\n",
       "    .dataframe tbody tr th {\n",
       "        vertical-align: top;\n",
       "    }\n",
       "\n",
       "    .dataframe thead th {\n",
       "        text-align: right;\n",
       "    }\n",
       "</style>\n",
       "<table border=\"1\" class=\"dataframe\">\n",
       "  <thead>\n",
       "    <tr style=\"text-align: right;\">\n",
       "      <th></th>\n",
       "      <th>sepal.length</th>\n",
       "      <th>sepal.width</th>\n",
       "      <th>petal.length</th>\n",
       "      <th>petal.width</th>\n",
       "      <th>variety</th>\n",
       "    </tr>\n",
       "  </thead>\n",
       "  <tbody>\n",
       "    <tr>\n",
       "      <th>0</th>\n",
       "      <td>5.1</td>\n",
       "      <td>3.5</td>\n",
       "      <td>1.4</td>\n",
       "      <td>0.2</td>\n",
       "      <td>Setosa</td>\n",
       "    </tr>\n",
       "    <tr>\n",
       "      <th>1</th>\n",
       "      <td>4.9</td>\n",
       "      <td>3.0</td>\n",
       "      <td>1.4</td>\n",
       "      <td>0.2</td>\n",
       "      <td>Setosa</td>\n",
       "    </tr>\n",
       "    <tr>\n",
       "      <th>2</th>\n",
       "      <td>4.7</td>\n",
       "      <td>3.2</td>\n",
       "      <td>1.3</td>\n",
       "      <td>0.2</td>\n",
       "      <td>Setosa</td>\n",
       "    </tr>\n",
       "    <tr>\n",
       "      <th>3</th>\n",
       "      <td>4.6</td>\n",
       "      <td>3.1</td>\n",
       "      <td>1.5</td>\n",
       "      <td>0.2</td>\n",
       "      <td>Setosa</td>\n",
       "    </tr>\n",
       "    <tr>\n",
       "      <th>4</th>\n",
       "      <td>5.0</td>\n",
       "      <td>3.6</td>\n",
       "      <td>1.4</td>\n",
       "      <td>0.2</td>\n",
       "      <td>Setosa</td>\n",
       "    </tr>\n",
       "  </tbody>\n",
       "</table>\n",
       "</div>"
      ],
      "text/plain": [
       "   sepal.length  sepal.width  petal.length  petal.width variety\n",
       "0           5.1          3.5           1.4          0.2  Setosa\n",
       "1           4.9          3.0           1.4          0.2  Setosa\n",
       "2           4.7          3.2           1.3          0.2  Setosa\n",
       "3           4.6          3.1           1.5          0.2  Setosa\n",
       "4           5.0          3.6           1.4          0.2  Setosa"
      ]
     },
     "execution_count": 12,
     "metadata": {},
     "output_type": "execute_result"
    }
   ],
   "source": [
    "# Data is stored in the second tab, named \"iris\", \n",
    "# with headers starting in B3 going left to right, and data starting in B5 going left to right\n",
    "\n",
    "data_from_excel_2 = pd.read_excel(\"sample_input/iris_multi_tab.xlsx\",\n",
    "                                  sheet_name = \"iris\",\n",
    "                                  index_col = None, # No index column\n",
    "                                  skiprows = [0, 1,3], # No data in first, second, fourth rows\n",
    "                                  usecols=lambda x: 'Unnamed' not in x # Skip blank columns\n",
    "                                 )\n",
    "\n",
    "data_from_excel_2.head()"
   ]
  },
  {
   "cell_type": "code",
   "execution_count": 13,
   "id": "594513e4",
   "metadata": {},
   "outputs": [],
   "source": [
    "# Create a blank Excel file with two tabs.\n",
    "\n",
    "writer = pd.ExcelWriter('sample_output/iris_multi_tab.xlsx', engine='openpyxl')\n",
    "\n",
    "# Populate the first tab description: Text stored in a dataframe\n",
    "pd.DataFrame({\"Description\":[\"Hello World\"]}).T.to_excel(writer,\n",
    "                                                         sheet_name = \"Description\",\n",
    "                                                         index=True,\n",
    "                                                         header=False,\n",
    "                                                         startrow = 1,\n",
    "                                                         startcol = 2\n",
    "                                                        )\n",
    "\n",
    "# Then populate a second tab with the data\n",
    "data_from_excel_2.to_excel(writer,\n",
    "                                 sheet_name = \"Data\",\n",
    "                                 index=False,\n",
    "                                 header=True,\n",
    "                                 startrow = 1,\n",
    "                                 startcol = 2\n",
    "                                )\n",
    "\n",
    "\n",
    "# Save\n",
    "writer.save()"
   ]
  },
  {
   "cell_type": "markdown",
   "id": "31c68f92",
   "metadata": {},
   "source": [
    "<a id=\"json\"></a>\n",
    "# Read and write from json\n",
    "\n",
    "Python has a built in package called json for writing and reading json files. Refer to: https://docs.python.org/3/library/json.html"
   ]
  },
  {
   "cell_type": "code",
   "execution_count": 14,
   "id": "20f7d9b1",
   "metadata": {},
   "outputs": [],
   "source": [
    "import json"
   ]
  },
  {
   "cell_type": "code",
   "execution_count": 15,
   "id": "5e21ef66",
   "metadata": {},
   "outputs": [
    {
     "data": {
      "text/plain": [
       "{'Name': 'Test',\n",
       " 'Mobile': 12345678,\n",
       " 'Boolean': True,\n",
       " 'Pets': ['Dog', 'cat'],\n",
       " 'Address': {'Permanent address': 'USA', 'current Address': 'AU'}}"
      ]
     },
     "execution_count": 15,
     "metadata": {},
     "output_type": "execute_result"
    }
   ],
   "source": [
    "# Opening JSON file\n",
    "with open('sample_input/example_json.json') as file:\n",
    "    \n",
    "    # returns JSON object as a dictionary\n",
    "    json_data = json.load(file)\n",
    "    \n",
    "json_data"
   ]
  },
  {
   "cell_type": "code",
   "execution_count": 16,
   "id": "a13e79e4",
   "metadata": {},
   "outputs": [],
   "source": [
    "# Write json files\n",
    "with open('sample_output/example_json.json', 'w') as file:  # The 'w' is for 'write'\n",
    "    json_string = json.dumps(json_data)\n",
    "    \n",
    "    file.write(json_string)"
   ]
  },
  {
   "cell_type": "markdown",
   "id": "8a20613e",
   "metadata": {},
   "source": [
    "<a id=\"pickle\"></a>\n",
    "# Read and write a pickle file\n",
    "\n",
    "pickle is Python's native method for serializing objects, allowing you to store virtually any objects: https://docs.python.org/3/library/pickle.html \n",
    "\n",
    "**Beware: Do not load (unpickle) unknown pickle files, as the file can potentially contain malicious code. Where possible, use other serialization methods where possible (as per examples above)**\n",
    "* There are methods to store some models as json, e.g. https://github.com/mlrequest/sklearn-json\n",
    "\n",
    "In this example, we create a dictionary containing a string, a list, a pandas dataframe, and a matplotlib figure, and save it as a pickle file. Then we also show how to load the saved pickle file "
   ]
  },
  {
   "cell_type": "code",
   "execution_count": 17,
   "id": "6c95a387",
   "metadata": {},
   "outputs": [],
   "source": [
    "import pickle\n",
    "import pandas as pd\n",
    "import numpy as np\n",
    "import matplotlib\n",
    "%matplotlib inline\n",
    "import matplotlib.pyplot as plt"
   ]
  },
  {
   "cell_type": "code",
   "execution_count": 18,
   "id": "0c7f9d0d",
   "metadata": {},
   "outputs": [
    {
     "data": {
      "image/png": "[encoded data removed]",
      "text/plain": [
       "<Figure size 432x288 with 1 Axes>"
      ]
     },
     "metadata": {
      "needs_background": "light"
     },
     "output_type": "display_data"
    }
   ],
   "source": [
    "# Create each of the items\n",
    "test_string = \"This is a pickle example\"\n",
    "test_list = [\"A\", \"B\", \"C\", \"D\"]\n",
    "test_pandas = pd.DataFrame({\"Col1\": [1,2,3], \"Col2\":[-1,-2,-3], \"Col3\": [0,0,0]})\n",
    "test_fig = plt.figure()\n",
    "x = np.linspace(0,2*np.pi)\n",
    "y = np.sin(x)\n",
    "plt.plot(x,y)\n",
    "\n",
    "# Create the dictionary\n",
    "dictionary_to_save = {\n",
    "    \"my_string\": test_string,\n",
    "    \"my_list\": test_list,\n",
    "    \"my_pandas\": test_pandas,\n",
    "    \"my_figure\": test_fig\n",
    "}"
   ]
  },
  {
   "cell_type": "code",
   "execution_count": 19,
   "id": "783e94e7",
   "metadata": {},
   "outputs": [],
   "source": [
    "# Pickle the dictionary into a file\n",
    "with open('sample_output/example_pickle.pickle', 'wb') as file:  # The 'w' is for 'write', and 'b' for binary (not )\n",
    "    pickle.dump(dictionary_to_save,file)"
   ]
  },
  {
   "cell_type": "code",
   "execution_count": 20,
   "id": "b35e34cf",
   "metadata": {},
   "outputs": [
    {
     "data": {
      "text/plain": [
       "{'my_string': 'This is a pickle example',\n",
       " 'my_list': ['A', 'B', 'C', 'D'],\n",
       " 'my_pandas':    Col1  Col2  Col3\n",
       " 0     1    -1     0\n",
       " 1     2    -2     0\n",
       " 2     3    -3     0,\n",
       " 'my_figure': <Figure size 432x288 with 1 Axes>}"
      ]
     },
     "execution_count": 20,
     "metadata": {},
     "output_type": "execute_result"
    }
   ],
   "source": [
    "# Read in the pickle file\n",
    "with open('sample_output/example_pickle.pickle', 'rb') as file:  # The 'r' is for 'read', and 'b' for binary (not )\n",
    "    loaded_pickle = pickle.load(file)\n",
    "    \n",
    "# Check the file\n",
    "loaded_pickle"
   ]
  },
  {
   "cell_type": "code",
   "execution_count": 21,
   "id": "43d407af",
   "metadata": {},
   "outputs": [
    {
     "data": {
      "text/html": [
       "<div>\n",
       "<style scoped>\n",
       "    .dataframe tbody tr th:only-of-type {\n",
       "        vertical-align: middle;\n",
       "    }\n",
       "\n",
       "    .dataframe tbody tr th {\n",
       "        vertical-align: top;\n",
       "    }\n",
       "\n",
       "    .dataframe thead th {\n",
       "        text-align: right;\n",
       "    }\n",
       "</style>\n",
       "<table border=\"1\" class=\"dataframe\">\n",
       "  <thead>\n",
       "    <tr style=\"text-align: right;\">\n",
       "      <th></th>\n",
       "      <th>Col1</th>\n",
       "      <th>Col2</th>\n",
       "      <th>Col3</th>\n",
       "    </tr>\n",
       "  </thead>\n",
       "  <tbody>\n",
       "    <tr>\n",
       "      <th>0</th>\n",
       "      <td>1</td>\n",
       "      <td>-1</td>\n",
       "      <td>0</td>\n",
       "    </tr>\n",
       "    <tr>\n",
       "      <th>1</th>\n",
       "      <td>2</td>\n",
       "      <td>-2</td>\n",
       "      <td>0</td>\n",
       "    </tr>\n",
       "    <tr>\n",
       "      <th>2</th>\n",
       "      <td>3</td>\n",
       "      <td>-3</td>\n",
       "      <td>0</td>\n",
       "    </tr>\n",
       "  </tbody>\n",
       "</table>\n",
       "</div>"
      ],
      "text/plain": [
       "   Col1  Col2  Col3\n",
       "0     1    -1     0\n",
       "1     2    -2     0\n",
       "2     3    -3     0"
      ]
     },
     "execution_count": 21,
     "metadata": {},
     "output_type": "execute_result"
    }
   ],
   "source": [
    "# To access the pandas dataframe\n",
    "loaded_pickle['my_pandas']"
   ]
  },
  {
   "cell_type": "code",
   "execution_count": 22,
   "id": "bc6abc80",
   "metadata": {},
   "outputs": [
    {
     "data": {
      "image/png": "[encoded data removed]",
      "text/plain": [
       "<Figure size 432x288 with 1 Axes>"
      ]
     },
     "execution_count": 22,
     "metadata": {},
     "output_type": "execute_result"
    }
   ],
   "source": [
    "# To access the figure\n",
    "loaded_pickle['my_figure']"
   ]
  }
 ],
 "metadata": {
  "kernelspec": {
   "display_name": "Python 3 (ipykernel)",
   "language": "python",
   "name": "python3"
  },
  "language_info": {
   "codemirror_mode": {
    "name": "ipython",
    "version": 3
   },
   "file_extension": ".py",
   "mimetype": "text/x-python",
   "name": "python",
   "nbconvert_exporter": "python",
   "pygments_lexer": "ipython3",
   "version": "3.9.5"
  },
  "toc": {
   "base_numbering": 1,
   "nav_menu": {
    "height": "107px",
    "width": "438px"
   },
   "number_sections": true,
   "sideBar": true,
   "skip_h1_title": false,
   "title_cell": "Table of Contents",
   "title_sidebar": "Contents",
   "toc_cell": false,
   "toc_position": {},
   "toc_section_display": true,
   "toc_window_display": false
  }
 },
 "nbformat": 4,
 "nbformat_minor": 5
}
